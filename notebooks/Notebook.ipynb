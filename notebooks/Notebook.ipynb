{
 "metadata": {
  "language_info": {
   "codemirror_mode": {
    "name": "ipython",
    "version": 3
   },
   "file_extension": ".py",
   "mimetype": "text/x-python",
   "name": "python",
   "nbconvert_exporter": "python",
   "pygments_lexer": "ipython3",
   "version": "3.8.6-final"
  },
  "orig_nbformat": 2,
  "kernelspec": {
   "name": "python_defaultSpec_1601276870971",
   "display_name": "Python 3.8.6 64-bit",
   "metadata": {
    "interpreter": {
     "hash": "c56e9a4af30e335984a7d48ea771282c1d494a676db414b303ef4af18d517a5e"
    }
   }
  }
 },
 "nbformat": 4,
 "nbformat_minor": 2,
 "cells": [
  {
   "cell_type": "code",
   "execution_count": 3,
   "metadata": {},
   "outputs": [],
   "source": [
    "import numpy as np\n",
    "import pandas as pd\n",
    "import csv\n",
    "import math\n",
    "from sklearn.neural_network import MLPClassifier\n",
    "from sklearn.datasets import load_wine\n",
    "from sklearn.metrics import accuracy_score\n"
   ]
  },
  {
   "cell_type": "code",
   "execution_count": 11,
   "metadata": {
    "tags": []
   },
   "outputs": [
    {
     "output_type": "stream",
     "name": "stdout",
     "text": "16\n16\n16\n16\n16\n16\n16\n16\n16\n16\n16\n16\n"
    }
   ],
   "source": [
    "len_data = 0\n",
    "\n",
    "x_in_path = '../data/raw_data_x.csv'\n",
    "y_in_path = '../data/raw_data_y.csv'\n",
    "z_in_path = '../data/raw_data_z.csv'\n",
    "\n",
    "x_generated_path = '../data/raw_data_x_generated.csv'\n",
    "y_generated_path = '../data/raw_data_y_generated.csv'\n",
    "z_generated_path = '../data/raw_data_z_generated.csv'\n",
    "\n",
    "generated_path = '../data/raw_data_preprocesed'\n",
    "## Convertir archivos  del x\n",
    "\n",
    "rms_generated = []\n",
    "\n",
    "with open(x_in_path,newline='') as File:\n",
    "    with open(x_generated_path,'w',newline='') as FileGen:\n",
    "        writer = csv.writer(FileGen,dialect='excel')\n",
    "        reader = csv.reader(File,dialect='excel')\n",
    "        writer.writerow([\"ID\",\"GENERO\",\"EDAD\",\"N\",\"AC_X\",\"ACTIVIDAD\"])\n",
    "        counter = 0\n",
    "        arr1_aux = []\n",
    "        arr2_aux = []\n",
    "        arr3_aux = []\n",
    "        min_1 = 0\n",
    "        max_1 = 15\n",
    "        min_2 = 12\n",
    "        max_2 = 27\n",
    "        min_3 = 24\n",
    "        max_3 = 39\n",
    "        for row in reader:\n",
    "            if counter == 0:\n",
    "                counter = counter+1\n",
    "                continue\n",
    "            index = int(row[3])\n",
    "            cur_id = int(row[0])\n",
    "            data  = row\n",
    "            if index >= min_1 and index <= max_1:\n",
    "                data[0] = 3*(cur_id-1) + 1\n",
    "                data[3] = str(index - min_1)\n",
    "                arr1_aux.append(data[:])\n",
    "            if index >= min_2 and index <= max_2:\n",
    "                data[0] = 3*(cur_id-1) + 2\n",
    "                data[3] = str(index -min_2)\n",
    "                arr2_aux.append(data[:])\n",
    "            if index >= min_3 and index <= max_3:\n",
    "                data[0] = 3*(cur_id-1) + 3\n",
    "                data[3] = str(index -min_3)\n",
    "                arr3_aux.append(data[:])\n",
    "            if index == 39:\n",
    "                for el in arr1_aux:\n",
    "                    writer.writerow(el[:])\n",
    "                    el[4] = pow(float(el[4]),2)\n",
    "                    rms_generated.append(el[:])\n",
    "                for el in arr2_aux:\n",
    "                    writer.writerow(el[:])\n",
    "                    el[4] = pow(float(el[4]),2)\n",
    "                    rms_generated.append(el[:])\n",
    "                for el in arr3_aux:\n",
    "                    writer.writerow(el[:])\n",
    "                    el[4] = pow(float(el[4]),2)\n",
    "                    rms_generated.append(el[:])\n",
    "                arr1_aux = []\n",
    "                arr2_aux = []\n",
    "                arr3_aux = []\n",
    "## Leer archivos del y\n",
    "indexRMS = 0\n",
    "with open(y_in_path,newline='') as File:\n",
    "    with open(y_generated_path,'w',newline='') as FileGen:\n",
    "        writer = csv.writer(FileGen,dialect='excel')\n",
    "        reader = csv.reader(File,dialect='excel')\n",
    "        writer.writerow([\"ID\",\"GENERO\",\"EDAD\",\"N\",\"AC_Y\",\"ACTIVIDAD\"])\n",
    "        counter = 0\n",
    "        arr1_aux = []\n",
    "        arr2_aux = []\n",
    "        arr3_aux = []\n",
    "        min_1 = 0\n",
    "        max_1 = 15\n",
    "        min_2 = 12\n",
    "        max_2 = 27\n",
    "        min_3 = 24\n",
    "        max_3 = 39\n",
    "        for row in reader:\n",
    "            if counter == 0:\n",
    "                counter = counter+1\n",
    "                continue\n",
    "            index = int(row[3])\n",
    "            cur_id = int(row[0])\n",
    "            data  = row\n",
    "            if index >= min_1 and index <= max_1:\n",
    "                data[0] = 3*(cur_id-1) + 1\n",
    "                data[3] = str(index - min_1)\n",
    "                arr1_aux.append(data[:])\n",
    "            if index >= min_2 and index <= max_2:\n",
    "                data[0] = 3*(cur_id-1) + 2\n",
    "                data[3] = str(index -min_2)\n",
    "                arr2_aux.append(data[:])\n",
    "            if index >= min_3 and index <= max_3:\n",
    "                data[0] = 3*(cur_id-1) + 3\n",
    "                data[3] = str(index -min_3)\n",
    "                arr3_aux.append(data[:])\n",
    "            if index == 39:\n",
    "                for el in arr1_aux:\n",
    "                    writer.writerow(el[:])\n",
    "                    el[4] = pow(float(el[4]),2)\n",
    "                    rms_generated[indexRMS][4] += + el[4]\n",
    "                    indexRMS += 1 \n",
    "                for el in arr2_aux:\n",
    "                    writer.writerow(el[:])\n",
    "                    el[4] = pow(float(el[4]),2)\n",
    "                    rms_generated[indexRMS][4] += + el[4]\n",
    "                    indexRMS += 1\n",
    "                for el in arr3_aux:\n",
    "                    writer.writerow(el[:])\n",
    "                    el[4] = pow(float(el[4]),2)\n",
    "                    rms_generated[indexRMS][4] += + el[4]\n",
    "                    indexRMS += 1\n",
    "                arr1_aux = []\n",
    "                arr2_aux = []\n",
    "                arr3_aux = []\n",
    "## Leer archivos del z\n",
    "indexRMS = 0\n",
    "with open(z_in_path,newline='') as File:\n",
    "    with open(z_generated_path,'w',newline='') as FileGen:\n",
    "        writer = csv.writer(FileGen,dialect='excel')\n",
    "        reader = csv.reader(File,dialect='excel')\n",
    "        writer.writerow([\"ID\",\"GENERO\",\"EDAD\",\"N\",\"AC_Z\",\"ACTIVIDAD\"])\n",
    "        counter = 0\n",
    "        arr1_aux = []\n",
    "        arr2_aux = []\n",
    "        arr3_aux = []\n",
    "        min_1 = 0\n",
    "        max_1 = 15\n",
    "        min_2 = 12\n",
    "        max_2 = 27\n",
    "        min_3 = 24\n",
    "        max_3 = 39\n",
    "        for row in reader:\n",
    "            if counter == 0:\n",
    "                counter = counter+1\n",
    "                continue\n",
    "            index = int(row[3])\n",
    "            cur_id = int(row[0])\n",
    "            data  = row\n",
    "            if index >= min_1 and index <= max_1:\n",
    "                data[0] = 3*(cur_id-1) + 1\n",
    "                data[3] = str(index - min_1)\n",
    "                arr1_aux.append(data[:])\n",
    "            if index >= min_2 and index <= max_2:\n",
    "                data[0] = 3*(cur_id-1) + 2\n",
    "                data[3] = str(index -min_2)\n",
    "                arr2_aux.append(data[:])\n",
    "            if index >= min_3 and index <= max_3:\n",
    "                data[0] = 3*(cur_id-1) + 3\n",
    "                data[3] = str(index -min_3)\n",
    "                arr3_aux.append(data[:])\n",
    "            if index == 39:\n",
    "                for el in arr1_aux:\n",
    "                    writer.writerow(el[:])\n",
    "                    el[4] = pow(float(el[4]),2)\n",
    "                    rms_generated[indexRMS][4] += + el[4]\n",
    "                    indexRMS += 1\n",
    "                for el in arr2_aux:\n",
    "                    writer.writerow(el[:])\n",
    "                    el[4] = pow(float(el[4]),2)\n",
    "                    rms_generated[indexRMS][4] += + el[4]\n",
    "                    indexRMS += 1\n",
    "                for el in arr3_aux:\n",
    "                    writer.writerow(el[:])\n",
    "                    el[4] = pow(float(el[4]),2)\n",
    "                    rms_generated[indexRMS][4] += + el[4]\n",
    "                    indexRMS += 1\n",
    "                arr1_aux = []\n",
    "                arr2_aux = []\n",
    "                arr3_aux = []\n",
    "## Calcular la RMS de las señales generadas\n",
    "## Normalizar las aceleraciones en los 3 ejes con a = sqrt(x*x + y*y + z*z)\n",
    "## Agrupar los elementos para poder encontrar la fft\n",
    "for el in rms_generated:\n",
    "    el[4] = math.sqrt(el[4])\n",
    "\n",
    "procesed_data = []\n",
    "aux_array = []\n",
    "for el in rms_generated:\n",
    "    index = int(el[3])\n",
    "    if index == 0:\n",
    "        aux_array = el[:]\n",
    "        aux_array[4] = [aux_array[4]]\n",
    "        continue\n",
    "    aux_array[4].append(el[4])\n",
    "    if index == 15:\n",
    "        procesed_data.append(aux_array[:])\n",
    "        aux_array = []\n",
    "# Aplicar gaussian filter\n",
    "from scipy.ndimage import gaussian_filter1d\n",
    "gaussian_sigma = 3\n",
    "for el in procesed_data:\n",
    "    el[4] = gaussian_filter1d(el[4],gaussian_sigma).tolist()\n",
    "# Aplicar fft\n",
    "for el in procesed_data:\n",
    "    re_array = np.fft.fft(el[4]).real.tolist()\n",
    "    im_array = np.fft.fft(el[4]).imag.tolist()\n",
    "    mod_array = []\n",
    "    print(len(re_array))\n",
    "    for i in range(len(el[4])):\n",
    "        mod_array.append(math.sqrt(pow(re_array[i],2) + pow(im_array[i],2)))\n",
    "    el.append(im_array)\n",
    "    el.append(re_array)\n",
    "    el.append(mod_array)\n",
    "#Registrar archivos para entrenamiento\n",
    "out_mod_feature = '../data/raw_data_mod_attributes.csv'\n",
    "out_mod_target =  '../data/raw_data_mod_target.csv'\n",
    "with open(out_mod_feature,'w',newline='') as FileFeat:\n",
    "    with open(out_mod_target,'w',newline='') as FileTar:\n",
    "        writerFeat = csv.writer(FileFeat,dialect='excel')\n",
    "        writerTar = csv.writer(FileTar,dialect='excel')\n",
    "        writerFeat.writerow([\"GENERO\",\"EDAD\",\"A1\",\"A2\",\"A3\",\"A4\",\"A5\",\"A6\",\"A7\",\"A8\",\"A9\",\"A10\",\"A11\",\"A12\",\"A13\",\"A14\",\"A15\",\"A16\"])\n",
    "        writerTar.writerow([\"Target\"])\n",
    "        for el in procesed_data:\n",
    "            feat_arr = el[1:3]\n",
    "            for i in el[8]:\n",
    "                feat_arr.append(i)\n",
    "            writerFeat.writerow(feat_arr)\n",
    "            writerTar.writerow([el[5]])\n",
    "\n"
   ]
  },
  {
   "cell_type": "code",
   "execution_count": 145,
   "metadata": {
    "tags": []
   },
   "outputs": [
    {
     "output_type": "stream",
     "name": "stdout",
     "text": "[6.10775815e+01 4.83157930e+01 3.02229749e+01 1.49408808e+01\n 5.83680446e+00 1.80801426e+00 4.54016379e-01 1.04582546e-01\n 3.36186909e-02 2.27300838e-02 2.26430830e-02 2.22017260e-02\n 2.09097542e-02 1.83972347e-02 1.51545035e-02 1.27594144e-02]\n"
    },
    {
     "output_type": "display_data",
     "data": {
      "text/plain": "<Figure size 432x288 with 1 Axes>",
      "image/png": "[encoded data removed]"
     },
     "metadata": {
      "needs_background": "light"
     }
    }
   ],
   "source": [
    "\n",
    "el = procesed_data[0][4]\n",
    "gaussian_filter1d(el, 1)\n",
    "gaussian_filter1d([1.0, 2.0, 3.0, 4.0, 5.0], 4)\n",
    "import matplotlib.pyplot as plt\n",
    "x = el\n",
    "y3 = gaussian_filter1d(el, 2)\n",
    "y6 = gaussian_filter1d(el, 6)\n",
    "plt.plot(x, 'k', label='original data')\n",
    "plt.plot(y3, '--', label='filtered, sigma=2')\n",
    "print(y3)\n",
    "plt.plot(y6, ':', label='filtered, sigma=6')\n",
    "plt.legend()\n",
    "plt.grid()\n",
    "plt.show()"
   ]
  },
  {
   "cell_type": "code",
   "execution_count": 15,
   "metadata": {},
   "outputs": [
    {
     "output_type": "execute_result",
     "data": {
      "text/plain": "   GENERO  EDAD          A1         A2         A3         A4        A5  \\\n0       0     1  162.636736   0.151003   0.069813   0.040686  0.032309   \n1       0     1  161.762984   0.076020   0.053093   0.026838  0.021282   \n2       0     1  162.199980   0.305603   0.180703   0.105497  0.081081   \n3       0     2  656.565454  21.482301  24.062551  12.866799  9.552586   \n4       0     2  880.616641  29.723787  20.506875  11.294230  8.604619   \n\n         A6        A7        A8        A9       A10       A11       A12  \\\n0  0.027387  0.024597  0.023146  0.022697  0.023146  0.024597  0.027387   \n1  0.017986  0.016131  0.015167  0.014860  0.015167  0.016131  0.017986   \n2  0.068180  0.061028  0.057336  0.056203  0.057336  0.061028  0.068180   \n3  7.942511  7.074998  6.631707  6.492994  6.631707  7.074998  7.942511   \n4  7.215464  6.454017  6.059231  5.937509  6.059231  6.454017  7.215464   \n\n        A13        A14        A15        A16  \n0  0.032309   0.040686   0.069813   0.151003  \n1  0.021282   0.026838   0.053093   0.076020  \n2  0.081081   0.105497   0.180703   0.305603  \n3  9.552586  12.866799  24.062551  21.482301  \n4  8.604619  11.294230  20.506875  29.723787  ",
      "text/html": "<div>\n<style scoped>\n    .dataframe tbody tr th:only-of-type {\n        vertical-align: middle;\n    }\n\n    .dataframe tbody tr th {\n        vertical-align: top;\n    }\n\n    .dataframe thead th {\n        text-align: right;\n    }\n</style>\n<table border=\"1\" class=\"dataframe\">\n  <thead>\n    <tr style=\"text-align: right;\">\n      <th></th>\n      <th>GENERO</th>\n      <th>EDAD</th>\n      <th>A1</th>\n      <th>A2</th>\n      <th>A3</th>\n      <th>A4</th>\n      <th>A5</th>\n      <th>A6</th>\n      <th>A7</th>\n      <th>A8</th>\n      <th>A9</th>\n      <th>A10</th>\n      <th>A11</th>\n      <th>A12</th>\n      <th>A13</th>\n      <th>A14</th>\n      <th>A15</th>\n      <th>A16</th>\n    </tr>\n  </thead>\n  <tbody>\n    <tr>\n      <th>0</th>\n      <td>0</td>\n      <td>1</td>\n      <td>162.636736</td>\n      <td>0.151003</td>\n      <td>0.069813</td>\n      <td>0.040686</td>\n      <td>0.032309</td>\n      <td>0.027387</td>\n      <td>0.024597</td>\n      <td>0.023146</td>\n      <td>0.022697</td>\n      <td>0.023146</td>\n      <td>0.024597</td>\n      <td>0.027387</td>\n      <td>0.032309</td>\n      <td>0.040686</td>\n      <td>0.069813</td>\n      <td>0.151003</td>\n    </tr>\n    <tr>\n      <th>1</th>\n      <td>0</td>\n      <td>1</td>\n      <td>161.762984</td>\n      <td>0.076020</td>\n      <td>0.053093</td>\n      <td>0.026838</td>\n      <td>0.021282</td>\n      <td>0.017986</td>\n      <td>0.016131</td>\n      <td>0.015167</td>\n      <td>0.014860</td>\n      <td>0.015167</td>\n      <td>0.016131</td>\n      <td>0.017986</td>\n      <td>0.021282</td>\n      <td>0.026838</td>\n      <td>0.053093</td>\n      <td>0.076020</td>\n    </tr>\n    <tr>\n      <th>2</th>\n      <td>0</td>\n      <td>1</td>\n      <td>162.199980</td>\n      <td>0.305603</td>\n      <td>0.180703</td>\n      <td>0.105497</td>\n      <td>0.081081</td>\n      <td>0.068180</td>\n      <td>0.061028</td>\n      <td>0.057336</td>\n      <td>0.056203</td>\n      <td>0.057336</td>\n      <td>0.061028</td>\n      <td>0.068180</td>\n      <td>0.081081</td>\n      <td>0.105497</td>\n      <td>0.180703</td>\n      <td>0.305603</td>\n    </tr>\n    <tr>\n      <th>3</th>\n      <td>0</td>\n      <td>2</td>\n      <td>656.565454</td>\n      <td>21.482301</td>\n      <td>24.062551</td>\n      <td>12.866799</td>\n      <td>9.552586</td>\n      <td>7.942511</td>\n      <td>7.074998</td>\n      <td>6.631707</td>\n      <td>6.492994</td>\n      <td>6.631707</td>\n      <td>7.074998</td>\n      <td>7.942511</td>\n      <td>9.552586</td>\n      <td>12.866799</td>\n      <td>24.062551</td>\n      <td>21.482301</td>\n    </tr>\n    <tr>\n      <th>4</th>\n      <td>0</td>\n      <td>2</td>\n      <td>880.616641</td>\n      <td>29.723787</td>\n      <td>20.506875</td>\n      <td>11.294230</td>\n      <td>8.604619</td>\n      <td>7.215464</td>\n      <td>6.454017</td>\n      <td>6.059231</td>\n      <td>5.937509</td>\n      <td>6.059231</td>\n      <td>6.454017</td>\n      <td>7.215464</td>\n      <td>8.604619</td>\n      <td>11.294230</td>\n      <td>20.506875</td>\n      <td>29.723787</td>\n    </tr>\n  </tbody>\n</table>\n</div>"
     },
     "metadata": {},
     "execution_count": 15
    }
   ],
   "source": [
    "feature_data = pd.read_csv(out_mod_feature)\n",
    "feature_data.head()\n"
   ]
  },
  {
   "cell_type": "code",
   "execution_count": 14,
   "metadata": {},
   "outputs": [
    {
     "output_type": "execute_result",
     "data": {
      "text/plain": "   Target\n0       1\n1       1\n2       1\n3       1\n4       1",
      "text/html": "<div>\n<style scoped>\n    .dataframe tbody tr th:only-of-type {\n        vertical-align: middle;\n    }\n\n    .dataframe tbody tr th {\n        vertical-align: top;\n    }\n\n    .dataframe thead th {\n        text-align: right;\n    }\n</style>\n<table border=\"1\" class=\"dataframe\">\n  <thead>\n    <tr style=\"text-align: right;\">\n      <th></th>\n      <th>Target</th>\n    </tr>\n  </thead>\n  <tbody>\n    <tr>\n      <th>0</th>\n      <td>1</td>\n    </tr>\n    <tr>\n      <th>1</th>\n      <td>1</td>\n    </tr>\n    <tr>\n      <th>2</th>\n      <td>1</td>\n    </tr>\n    <tr>\n      <th>3</th>\n      <td>1</td>\n    </tr>\n    <tr>\n      <th>4</th>\n      <td>1</td>\n    </tr>\n  </tbody>\n</table>\n</div>"
     },
     "metadata": {},
     "execution_count": 14
    }
   ],
   "source": [
    "target_data = pd.read_csv(out_mod_target)\n",
    "target_data.head()"
   ]
  },
  {
   "cell_type": "code",
   "execution_count": 27,
   "metadata": {
    "tags": []
   },
   "outputs": [],
   "source": [
    "\n",
    "from sklearn.model_selection import train_test_split\n",
    "X_train, X_test, y_train, y_test = train_test_split(feature_data, target_data, test_size=0.5,random_state=1)\n",
    "clf = MLPClassifier(hidden_layer_sizes=(150,100,50), max_iter=300,activation = 'relu',solver='adam',random_state=1).fit(X_train, y_train)\n"
   ]
  },
  {
   "cell_type": "code",
   "execution_count": 34,
   "metadata": {
    "tags": []
   },
   "outputs": [
    {
     "output_type": "stream",
     "name": "stdout",
     "text": "    GENERO  EDAD          A1         A2         A3         A4        A5  \\\n2        0     1  162.199980   0.305603   0.180703   0.105497  0.081081   \n3        0     2  656.565454  21.482301  24.062551  12.866799  9.552586   \n4        0     2  880.616641  29.723787  20.506875  11.294230  8.604619   \n10       1     2  714.693266  35.891225   6.800120   5.622834  4.278173   \n1        0     1  161.762984   0.076020   0.053093   0.026838  0.021282   \n6        1     2  176.113351  10.782408   3.959449   2.456937  1.968633   \n\n          A6        A7        A8        A9       A10       A11       A12  \\\n2   0.068180  0.061028  0.057336  0.056203  0.057336  0.061028  0.068180   \n3   7.942511  7.074998  6.631707  6.492994  6.631707  7.074998  7.942511   \n4   7.215464  6.454017  6.059231  5.937509  6.059231  6.454017  7.215464   \n10  3.631191  3.264584  3.076732  3.017481  3.076732  3.264584  3.631191   \n1   0.017986  0.016131  0.015167  0.014860  0.015167  0.016131  0.017986   \n6   1.676604  1.509016  1.421256  1.393871  1.421256  1.509016  1.676604   \n\n         A13        A14        A15        A16  \n2   0.081081   0.105497   0.180703   0.305603  \n3   9.552586  12.866799  24.062551  21.482301  \n4   8.604619  11.294230  20.506875  29.723787  \n10  4.278173   5.622834   6.800120  35.891225  \n1   0.021282   0.026838   0.053093   0.076020  \n6   1.968633   2.456937   3.959449  10.782408  \n"
    }
   ],
   "source": [
    "print(X_test)"
   ]
  },
  {
   "cell_type": "code",
   "execution_count": 52,
   "metadata": {
    "tags": []
   },
   "outputs": [
    {
     "output_type": "stream",
     "name": "stdout",
     "text": "    Target\n2        1\n3        1\n4        1\n10       1\n1        1\n6        1\n[1 1 1 1 1 1]\n"
    }
   ],
   "source": [
    "y_pred = clf.predict(X_test[:6][:])\n",
    "print(y_test)\n",
    "print(y_pred)"
   ]
  },
  {
   "cell_type": "code",
   "execution_count": 55,
   "metadata": {
    "tags": []
   },
   "outputs": [
    {
     "output_type": "stream",
     "name": "stdout",
     "text": "accuracy_score: 1.00\n"
    }
   ],
   "source": [
    "print(\"accuracy_score: %.2f\" % accuracy_score(y_test, y_pred))"
   ]
  },
  {
   "cell_type": "code",
   "execution_count": 57,
   "metadata": {},
   "outputs": [],
   "source": [
    "import pickle\n",
    "pickle.dump(clf, open('../models/final_prediction.pickle', 'wb'))"
   ]
  },
  {
   "cell_type": "code",
   "execution_count": null,
   "metadata": {},
   "outputs": [],
   "source": []
  }
 ]
}